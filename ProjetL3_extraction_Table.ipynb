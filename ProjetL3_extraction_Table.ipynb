{
 "cells": [
  {
   "cell_type": "markdown",
   "metadata": {},
   "source": [
    "# Un exemple d'extraction de table d'une page html"
   ]
  },
  {
   "cell_type": "code",
   "execution_count": 16,
   "metadata": {},
   "outputs": [],
   "source": [
    "#!/usr/bin/env python3\n",
    "# -*- coding: utf-8 -*-\n",
    "\"\"\"\n",
    "Created on Wed Dec 12 09:58:17 2018\n",
    "\n",
    "@author: moi\n",
    "\"\"\"\n",
    "\n",
    "import pandas as pd\n",
    "import numpy as np\n",
    "import matplotlib.pyplot as plt\n",
    "\n",
    "# une page wikipedia avec des tableaux\n",
    "url = 'http://fr.wikipedia.org/wiki/Coupe_du_monde_de_rugby_%C3%A0_XV_2011'"
   ]
  },
  {
   "cell_type": "markdown",
   "metadata": {},
   "source": [
    "On selectionne les tableaux de la page qui contiennent le champs \"Joués\""
   ]
  },
  {
   "cell_type": "code",
   "execution_count": 17,
   "metadata": {},
   "outputs": [],
   "source": [
    "ts = pd.read_html(url, match='Joués', header=0)"
   ]
  },
  {
   "cell_type": "code",
   "execution_count": 18,
   "metadata": {},
   "outputs": [
    {
     "data": {
      "text/plain": [
       "[   No            Nation  Joués  V  N  D  EM  EE  BO  BD   PM   PE  Diff  Pts\n",
       " 0   1  Nouvelle-Zélande      4  4  0  0  36   6   4   0  240   49   191   20\n",
       " 1   2            France      4  2  0  2  13   9   2   1  124   96    28   11\n",
       " 2   3             Tonga      4  2  0  2   7  13   0   1   80   98   -18    9\n",
       " 3   4            Canada      4  1  1  2   9  20   0   0   82  168   -86    6\n",
       " 4   5             Japon      4  0  1  3   8  25   0   0   69  184  -115    2,\n",
       "    No      Nation  Joués  V  N  D  EM  EE  BO  BD   PM   PE  Diff  Pts\n",
       " 0   1  Angleterre      4  4  0  0  18   1   2   0  137   34   103   18\n",
       " 1   2   Argentine      4  3  0  1  10   3   1   1   90   40    50   14\n",
       " 2   3      Écosse      4  2  0  2   4   4   1   2   73   59    14   11\n",
       " 3   4     Géorgie      4  1  0  3   3   9   0   0   48   90   -42    4\n",
       " 4   5    Roumanie      4  0  0  4   3  21   0   0   44  169  -125    0,\n",
       "    No      Nation  Joués  V  N  D  EM  EE  BO  BD   PM   PE  Diff  Pts\n",
       " 0   1     Irlande      4  4  0  0  15   3   1   0  135   34   101   17\n",
       " 1   2   Australie      4  3  0  1  25   4   3   0  173   48   125   15\n",
       " 2   3      Italie      4  2  0  2  13  11   2   0   92   95    -3   10\n",
       " 3   4  États-Unis      4  1  0  3   4  18   0   0   38  122   -84    4\n",
       " 4   5      Russie      4  0  0  4   8  29   0   1   57  196  -139    1,\n",
       "    No          Nation  Joués  V  N  D  EM  EE  BO  BD   PM   PE  Diff  Pts\n",
       " 0   1  Afrique du Sud      4  4  0  0  21   2   2   0  166   24   142   18\n",
       " 1   2          Galles      4  3  0  1  23   4   2   1  180   34   146   15\n",
       " 2   3           Samoa      4  2  0  2  10   5   1   1   91   49    42   10\n",
       " 3   4           Fidji      4  1  0  3   7  19   1   0   59  167  -108    5\n",
       " 4   5         Namibie      4  0  0  4   5  36   0   0   44  266  -222    0]"
      ]
     },
     "execution_count": 18,
     "metadata": {},
     "output_type": "execute_result"
    }
   ],
   "source": [
    "ts"
   ]
  },
  {
   "cell_type": "markdown",
   "metadata": {},
   "source": [
    "On transforme en tableau numpy dont chaque ligne est (Pays, Points)"
   ]
  },
  {
   "cell_type": "code",
   "execution_count": 19,
   "metadata": {},
   "outputs": [],
   "source": [
    "rec = np.concatenate([df.filter(items=['Nation', 'PM']).to_records(index=False) for df in ts])"
   ]
  },
  {
   "cell_type": "code",
   "execution_count": 20,
   "metadata": {},
   "outputs": [
    {
     "data": {
      "text/plain": [
       "array([('Nouvelle-Zélande', 240), ('France', 124), ('Tonga',  80),\n",
       "       ('Canada',  82), ('Japon',  69), ('Angleterre', 137),\n",
       "       ('Argentine',  90), ('Écosse',  73), ('Géorgie',  48),\n",
       "       ('Roumanie',  44), ('Irlande', 135), ('Australie', 173),\n",
       "       ('Italie',  92), ('États-Unis',  38), ('Russie',  57),\n",
       "       ('Afrique du Sud', 166), ('Galles', 180), ('Samoa',  91),\n",
       "       ('Fidji',  59), ('Namibie',  44)],\n",
       "      dtype=(numpy.record, [('Nation', 'O'), ('PM', '<i8')]))"
      ]
     },
     "execution_count": 20,
     "metadata": {},
     "output_type": "execute_result"
    }
   ],
   "source": [
    "rec"
   ]
  },
  {
   "cell_type": "markdown",
   "metadata": {},
   "source": [
    "On extrait le tableau 1d des pays et celui des points"
   ]
  },
  {
   "cell_type": "code",
   "execution_count": 21,
   "metadata": {},
   "outputs": [],
   "source": [
    "pays = [r[0] for r in tf]\n",
    "points = [r[1] for r in tf]"
   ]
  },
  {
   "cell_type": "code",
   "execution_count": 22,
   "metadata": {},
   "outputs": [
    {
     "data": {
      "text/plain": [
       "['Nouvelle-Zélande',\n",
       " 'France',\n",
       " 'Tonga',\n",
       " 'Canada',\n",
       " 'Japon',\n",
       " 'Angleterre',\n",
       " 'Argentine',\n",
       " 'Écosse',\n",
       " 'Géorgie',\n",
       " 'Roumanie',\n",
       " 'Irlande',\n",
       " 'Australie',\n",
       " 'Italie',\n",
       " 'États-Unis',\n",
       " 'Russie',\n",
       " 'Afrique du Sud',\n",
       " 'Galles',\n",
       " 'Samoa',\n",
       " 'Fidji',\n",
       " 'Namibie']"
      ]
     },
     "execution_count": 22,
     "metadata": {},
     "output_type": "execute_result"
    }
   ],
   "source": [
    "pays"
   ]
  },
  {
   "cell_type": "code",
   "execution_count": 23,
   "metadata": {},
   "outputs": [
    {
     "data": {
      "text/plain": [
       "[240,\n",
       " 124,\n",
       " 80,\n",
       " 82,\n",
       " 69,\n",
       " 137,\n",
       " 90,\n",
       " 73,\n",
       " 48,\n",
       " 44,\n",
       " 135,\n",
       " 173,\n",
       " 92,\n",
       " 38,\n",
       " 57,\n",
       " 166,\n",
       " 180,\n",
       " 91,\n",
       " 59,\n",
       " 44]"
      ]
     },
     "execution_count": 23,
     "metadata": {},
     "output_type": "execute_result"
    }
   ],
   "source": [
    "points"
   ]
  },
  {
   "cell_type": "markdown",
   "metadata": {},
   "source": [
    "On trace un camembert"
   ]
  },
  {
   "cell_type": "code",
   "execution_count": 24,
   "metadata": {},
   "outputs": [
    {
     "data": {
      "image/png": "[encoded data removed]",
      "text/plain": [
       "<Figure size 432x288 with 1 Axes>"
      ]
     },
     "metadata": {},
     "output_type": "display_data"
    }
   ],
   "source": [
    "cam = plt.pie(points,labels=pays)"
   ]
  },
  {
   "cell_type": "code",
   "execution_count": null,
   "metadata": {},
   "outputs": [],
   "source": []
  },
  {
   "cell_type": "code",
   "execution_count": null,
   "metadata": {},
   "outputs": [],
   "source": []
  },
  {
   "cell_type": "code",
   "execution_count": null,
   "metadata": {},
   "outputs": [],
   "source": []
  }
 ],
 "metadata": {
  "kernelspec": {
   "display_name": "Python 3",
   "language": "python",
   "name": "python3"
  },
  "language_info": {
   "codemirror_mode": {
    "name": "ipython",
    "version": 3
   },
   "file_extension": ".py",
   "mimetype": "text/x-python",
   "name": "python",
   "nbconvert_exporter": "python",
   "pygments_lexer": "ipython3",
   "version": "3.7.0"
  }
 },
 "nbformat": 4,
 "nbformat_minor": 2
}
